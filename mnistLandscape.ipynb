{
  "nbformat": 4,
  "nbformat_minor": 0,
  "metadata": {
    "colab": {
      "provenance": [],
      "collapsed_sections": []
    },
    "kernelspec": {
      "name": "python3",
      "display_name": "Python 3"
    },
    "language_info": {
      "name": "python"
    },
    "accelerator": "GPU",
    "gpuClass": "standard"
  },
  "cells": [
    {
      "cell_type": "code",
      "execution_count": 1,
      "metadata": {
        "id": "JOzYaB1D7rnk"
      },
      "outputs": [],
      "source": [
        "import tensorflow as tf\n",
        "import numpy as np\n",
        "from sklearn.decomposition import PCA\n",
        "import matplotlib.pyplot as plt"
      ]
    },
    {
      "cell_type": "code",
      "source": [
        "mnist = tf.keras.datasets.mnist\n",
        "(x_train, y_train), (x_test, y_test) = mnist.load_data()\n",
        "x_train, x_test = x_train/255.0, x_test/255.0"
      ],
      "metadata": {
        "id": "BbAcpOse7zwU"
      },
      "execution_count": 2,
      "outputs": []
    },
    {
      "cell_type": "code",
      "source": [
        "model = tf.keras.models.Sequential([\n",
        "  tf.keras.layers.Flatten(input_shape=(28, 28)),\n",
        "  tf.keras.layers.Dense(64, activation='relu'),\n",
        "  tf.keras.layers.Dropout(0.2),\n",
        "  tf.keras.layers.Dense(10)\n",
        "])"
      ],
      "metadata": {
        "id": "f1_V9HR08EVJ"
      },
      "execution_count": 3,
      "outputs": []
    },
    {
      "cell_type": "code",
      "source": [
        "loss_fn = tf.keras.losses.SparseCategoricalCrossentropy(from_logits=True)"
      ],
      "metadata": {
        "id": "opCNLav98O6q"
      },
      "execution_count": 4,
      "outputs": []
    },
    {
      "cell_type": "code",
      "source": [
        "model.compile(optimizer='adam',\n",
        "              loss=loss_fn)"
      ],
      "metadata": {
        "id": "YSNh1_k08PQ8"
      },
      "execution_count": 5,
      "outputs": []
    },
    {
      "cell_type": "code",
      "source": [
        "class Landscape:\n",
        "  def __init__(self, model):\n",
        "    self.weight_list = []\n",
        "    self.weight_list.append(self.getWeight1D(model))\n",
        "\n",
        "  def getWeight1D(self, model):\n",
        "    weight1d = np.empty(0)\n",
        "    for layer in model.layers:\n",
        "      for i in range(len(layer.weights)):\n",
        "        weight = layer.get_weights()[i]\n",
        "        weight1d = np.concatenate([weight1d, np.ravel(weight)])\n",
        "    return weight1d\n",
        "\n",
        "  def setWeight(self, model, weight1d):\n",
        "    for layer in model.layers:\n",
        "      weight_list = []\n",
        "      for i in range(len(layer.weights)):\n",
        "        shape = layer.get_weights()[i].shape\n",
        "        size = layer.get_weights()[i].size\n",
        "        weight_list.append(weight1d[:size].reshape(shape))\n",
        "        weight1d = weight1d[size:]\n",
        "      layer.set_weights(weight_list)\n",
        "\n",
        "  def appendWeight(self, model):\n",
        "    self.weight_list.append(self.getWeight1D(model))\n",
        "\n",
        "  def PCA(self):\n",
        "    self.weight_list_np = np.array(self.weight_list)\n",
        "    self.weight_base = self.weight_list_np[-1, :]\n",
        "    self.weight_list_np = self.weight_list_np-self.weight_base\n",
        "    self.pca = PCA(n_components=2, svd_solver=\"randomized\")\n",
        "    self.pca.fit(self.weight_list_np)\n",
        "  \n",
        "  def plotPath(self, model, x, y, resolution=30):\n",
        "    path = self.pca.transform(self.weight_list_np)\n",
        "    plt.plot(path[:, 0], path[:, 1], color=\"r\")\n",
        "    x_max = max(np.max(path[:, 0]), -np.min(path[:, 0]))\n",
        "    y_max = max(np.max(path[:, 1]), -np.min(path[:, 1]))\n",
        "    ax = np.linspace(-3*x_max, 3*x_max, resolution)\n",
        "    ay = np.linspace(-3*y_max, 3*y_max, resolution)\n",
        "    xx, yy = np.meshgrid(ax, ay)\n",
        "    zz = np.empty((resolution, resolution))\n",
        "    for i in range(resolution):\n",
        "      for j in range(resolution):\n",
        "        weight = self.pca.inverse_transform(np.array([xx[i][j], yy[i][j]]))\n",
        "        self.setWeight(model, self.weight_base+weight)\n",
        "        zz[i][j] = model.evaluate(x, y, batch_size=256, verbose=0)\n",
        "    plt.contourf(xx, yy, np.log(zz), levels=30)\n",
        "    plt.colorbar()\n",
        "    plt.xlabel(\"1st component\")\n",
        "    plt.ylabel(\"2nd component\")\n",
        "    plt.show()"
      ],
      "metadata": {
        "id": "MoVyrIb3-laY"
      },
      "execution_count": 6,
      "outputs": []
    },
    {
      "cell_type": "code",
      "source": [
        "LS = Landscape(model)"
      ],
      "metadata": {
        "id": "Ss-JS3PEAlrC"
      },
      "execution_count": 7,
      "outputs": []
    },
    {
      "cell_type": "code",
      "source": [
        "for i in range(5):\n",
        "  model.fit(x_train, y_train, batch_size=256)\n",
        "  LS.appendWeight(model)"
      ],
      "metadata": {
        "colab": {
          "base_uri": "https://localhost:8080/"
        },
        "id": "3u5Lajwd9tr4",
        "outputId": "8bcaa91f-8939-49d9-fc60-912eb0b7299e"
      },
      "execution_count": 8,
      "outputs": [
        {
          "output_type": "stream",
          "name": "stdout",
          "text": [
            "235/235 [==============================] - 1s 3ms/step - loss: 0.6151\n",
            "235/235 [==============================] - 1s 3ms/step - loss: 0.3034\n",
            "235/235 [==============================] - 1s 3ms/step - loss: 0.2416\n",
            "235/235 [==============================] - 1s 3ms/step - loss: 0.2035\n",
            "235/235 [==============================] - 1s 3ms/step - loss: 0.1833\n"
          ]
        }
      ]
    },
    {
      "cell_type": "code",
      "source": [
        "LS.PCA()\n",
        "LS.plotPath(model, x_test, y_test)"
      ],
      "metadata": {
        "colab": {
          "base_uri": "https://localhost:8080/",
          "height": 279
        },
        "id": "E97yYEpxGYBp",
        "outputId": "6aca5c7f-54f6-488b-8652-71062192eb4d"
      },
      "execution_count": 9,
      "outputs": [
        {
          "output_type": "display_data",
          "data": {
            "text/plain": [
              "<Figure size 432x288 with 2 Axes>"
            ],
            "image/png": "[encoded data removed]"
          },
          "metadata": {
            "needs_background": "light"
          }
        }
      ]
    },
    {
      "cell_type": "code",
      "source": [],
      "metadata": {
        "id": "5ehfOPOiXU4T"
      },
      "execution_count": 9,
      "outputs": []
    }
  ]
}